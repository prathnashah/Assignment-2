{
 "cells": [
  {
   "cell_type": "markdown",
   "id": "5a9f512a",
   "metadata": {},
   "source": [
    "Q1. How do you comment code in Python? What are the different types of comments?  \n",
    "There are two types of comments in Python.\n",
    "1. Single Line\n",
    "2. Multi-Line"
   ]
  },
  {
   "cell_type": "code",
   "execution_count": 5,
   "id": "cead1d86",
   "metadata": {},
   "outputs": [],
   "source": [
    "#This is a single line comment. It uses the '#' symbol"
   ]
  },
  {
   "cell_type": "code",
   "execution_count": 7,
   "id": "6c4a8b5e",
   "metadata": {},
   "outputs": [
    {
     "name": "stdout",
     "output_type": "stream",
     "text": [
      "Multi line comment\n"
     ]
    }
   ],
   "source": [
    "'''This\n",
    "is\n",
    "a multi line\n",
    "comment\n",
    "'''\n",
    "print(\"Multi line comment\")"
   ]
  },
  {
   "cell_type": "markdown",
   "id": "8c468a7d",
   "metadata": {},
   "source": [
    "Q2. What are variables in Python? How do you declare and assign values to variables?  \n",
    "Variables are memory locations to store values. The assignment operator “=” symbol is the operator that is used to assign values to variables in Python."
   ]
  },
  {
   "cell_type": "code",
   "execution_count": 8,
   "id": "8b2fbea9",
   "metadata": {},
   "outputs": [
    {
     "name": "stdout",
     "output_type": "stream",
     "text": [
      "10\n",
      "['read', 'write', 'listen', 'speak']\n"
     ]
    }
   ],
   "source": [
    "#Example\n",
    "a = 10\n",
    "print(a)\n",
    "\n",
    "list = [\"read\",\"write\",\"listen\",\"speak\"]\n",
    "print(list)"
   ]
  },
  {
   "cell_type": "markdown",
   "id": "e27f36b9",
   "metadata": {},
   "source": [
    "Q3. How do you convert one data type to another in Python?"
   ]
  },
  {
   "cell_type": "code",
   "execution_count": 9,
   "id": "ee638e7e",
   "metadata": {},
   "outputs": [
    {
     "name": "stdout",
     "output_type": "stream",
     "text": [
      "Enter a number: 5\n",
      "5\n",
      "<class 'str'>\n"
     ]
    }
   ],
   "source": [
    "#Example\n",
    "number = input(\"Enter a number: \")\n",
    "print(number)\n",
    "print(type(number))"
   ]
  },
  {
   "cell_type": "code",
   "execution_count": 16,
   "id": "c0a634e1",
   "metadata": {},
   "outputs": [
    {
     "name": "stdout",
     "output_type": "stream",
     "text": [
      "Enter a number: 5\n",
      "5\n",
      "<class 'int'>\n"
     ]
    }
   ],
   "source": [
    "number = int(input(\"Enter a number: \"))\n",
    "print(number)\n",
    "print(type(number))"
   ]
  },
  {
   "cell_type": "markdown",
   "id": "a89f6ff1",
   "metadata": {},
   "source": [
    "Q4. How do you write and execute a Python script from the command line?"
   ]
  },
  {
   "attachments": {
    "image.png": {
     "image/png": "[encoded data removed]"
    }
   },
   "cell_type": "markdown",
   "id": "de1fc2f0",
   "metadata": {},
   "source": [
    "![image.png](attachment:image.png)"
   ]
  },
  {
   "cell_type": "markdown",
   "id": "dc59fffe",
   "metadata": {},
   "source": [
    "Q5. Given a list my_list = [1, 2, 3, 4, 5], write the code to slice the list and obtain the sub-list [2, 3]."
   ]
  },
  {
   "cell_type": "code",
   "execution_count": 19,
   "id": "1a3d61c7",
   "metadata": {},
   "outputs": [
    {
     "name": "stdout",
     "output_type": "stream",
     "text": [
      "[2, 3]\n"
     ]
    }
   ],
   "source": [
    "my_list = [1, 2, 3, 4, 5]\n",
    "sublist = my_list[1:3]\n",
    "print(sublist)"
   ]
  },
  {
   "cell_type": "markdown",
   "id": "4104159a",
   "metadata": {},
   "source": [
    "Q6. What is a complex number in mathematics, and how is it represented in Python?  \n",
    "A complex number is a number that can be expressed in the form of a + ib where a represents the real part, and b is the imaginary part; i is the imaginary unit which is defined as the square root of -1.  \n",
    "In Python it is represented as \"x+yj\" where x is real and y is imaginary."
   ]
  },
  {
   "cell_type": "code",
   "execution_count": 20,
   "id": "fec39edd",
   "metadata": {},
   "outputs": [
    {
     "name": "stdout",
     "output_type": "stream",
     "text": [
      "<class 'complex'>\n"
     ]
    }
   ],
   "source": [
    "number = 9+5j\n",
    "print(type(number))"
   ]
  },
  {
   "cell_type": "markdown",
   "id": "79b3fb58",
   "metadata": {},
   "source": [
    "Q7. What is the correct way to declare a variable named age and assign the value 25 to it?"
   ]
  },
  {
   "cell_type": "code",
   "execution_count": 21,
   "id": "7eff937b",
   "metadata": {},
   "outputs": [
    {
     "name": "stdout",
     "output_type": "stream",
     "text": [
      "25\n"
     ]
    }
   ],
   "source": [
    "#Correct way to assign a value to a variable\n",
    "age = 25\n",
    "print(age)"
   ]
  },
  {
   "cell_type": "markdown",
   "id": "296840e1",
   "metadata": {},
   "source": [
    "Q8. Declare a variable named price and assign the value 9.99 to it. What data type does this variable\n",
    "belong to?"
   ]
  },
  {
   "cell_type": "code",
   "execution_count": 22,
   "id": "6840e013",
   "metadata": {},
   "outputs": [
    {
     "name": "stdout",
     "output_type": "stream",
     "text": [
      "9.99\n",
      "<class 'float'>\n"
     ]
    }
   ],
   "source": [
    "price = 9.99\n",
    "print(price)\n",
    "print(type(price))"
   ]
  },
  {
   "cell_type": "markdown",
   "id": "6f899c0e",
   "metadata": {},
   "source": [
    "Q9. Create a variable named name and assign your full name to it as a string. How would you print the\n",
    "value of this variable?  \n",
    "We can print the value of this variable using the inbuilt function called \"print()\"."
   ]
  },
  {
   "cell_type": "code",
   "execution_count": 23,
   "id": "532b470f",
   "metadata": {},
   "outputs": [
    {
     "name": "stdout",
     "output_type": "stream",
     "text": [
      "Prathna Shah\n"
     ]
    }
   ],
   "source": [
    "name = \"Prathna Shah\"\n",
    "print(name)"
   ]
  },
  {
   "cell_type": "markdown",
   "id": "80f51201",
   "metadata": {},
   "source": [
    "Q10. Given the string \"Hello, World!\", extract the substring \"World\"."
   ]
  },
  {
   "cell_type": "code",
   "execution_count": 29,
   "id": "178d3b18",
   "metadata": {},
   "outputs": [
    {
     "data": {
      "text/plain": [
       "'World'"
      ]
     },
     "execution_count": 29,
     "metadata": {},
     "output_type": "execute_result"
    }
   ],
   "source": [
    "string = \"Hello, World!\"\n",
    "string[7 : 12]"
   ]
  },
  {
   "cell_type": "markdown",
   "id": "571ede89",
   "metadata": {},
   "source": [
    "Q11. Create a variable named \"is_student\" and assign it a boolean value indicating whether you are\n",
    "currently a student or not."
   ]
  },
  {
   "cell_type": "code",
   "execution_count": 30,
   "id": "193fb125",
   "metadata": {},
   "outputs": [
    {
     "name": "stdout",
     "output_type": "stream",
     "text": [
      "<class 'bool'>\n"
     ]
    }
   ],
   "source": [
    "is_student = True\n",
    "print(type(is_student))"
   ]
  },
  {
   "cell_type": "code",
   "execution_count": null,
   "id": "49605f15",
   "metadata": {},
   "outputs": [],
   "source": []
  }
 ],
 "metadata": {
  "kernelspec": {
   "display_name": "Python 3 (ipykernel)",
   "language": "python",
   "name": "python3"
  },
  "language_info": {
   "codemirror_mode": {
    "name": "ipython",
    "version": 3
   },
   "file_extension": ".py",
   "mimetype": "text/x-python",
   "name": "python",
   "nbconvert_exporter": "python",
   "pygments_lexer": "ipython3",
   "version": "3.9.13"
  }
 },
 "nbformat": 4,
 "nbformat_minor": 5
}
